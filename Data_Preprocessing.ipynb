{
  "nbformat": 4,
  "nbformat_minor": 0,
  "metadata": {
    "colab": {
      "provenance": [],
      "authorship_tag": "ABX9TyM9SW06/GkbgzUjW/Fz/P4s",
      "include_colab_link": true
    },
    "kernelspec": {
      "name": "python3",
      "display_name": "Python 3"
    },
    "language_info": {
      "name": "python"
    }
  },
  "cells": [
    {
      "cell_type": "markdown",
      "metadata": {
        "id": "view-in-github",
        "colab_type": "text"
      },
      "source": [
        "<a href=\"https://colab.research.google.com/github/Aasha03/fmllab/blob/main/Data_Preprocessing.ipynb\" target=\"_parent\"><img src=\"https://colab.research.google.com/assets/colab-badge.svg\" alt=\"Open In Colab\"/></a>"
      ]
    },
    {
      "cell_type": "code",
      "execution_count": null,
      "metadata": {
        "id": "y5Qe_tEwQ58x"
      },
      "outputs": [],
      "source": [
        "import pandas as pd\n",
        "import numpy as np"
      ]
    },
    {
      "cell_type": "code",
      "source": [
        "data=pd.read_csv('/content/train.csv')"
      ],
      "metadata": {
        "id": "c-2xwoA6TxTC"
      },
      "execution_count": null,
      "outputs": []
    },
    {
      "cell_type": "code",
      "source": [
        "data.columns"
      ],
      "metadata": {
        "colab": {
          "base_uri": "https://localhost:8080/"
        },
        "id": "Spt94ggeT5Lb",
        "outputId": "11798a13-6700-4309-f2c1-ce641b539549"
      },
      "execution_count": null,
      "outputs": [
        {
          "output_type": "execute_result",
          "data": {
            "text/plain": [
              "Index(['Passengerid', 'Age', 'Fare', 'Sex', 'sibsp', 'zero', 'zero.1',\n",
              "       'zero.2', 'zero.3', 'zero.4', 'zero.5', 'zero.6', 'Parch', 'zero.7',\n",
              "       'zero.8', 'zero.9', 'zero.10', 'zero.11', 'zero.12', 'zero.13',\n",
              "       'zero.14', 'Pclass', 'zero.15', 'zero.16', 'Embarked', 'zero.17',\n",
              "       'zero.18', '2urvived'],\n",
              "      dtype='object')"
            ]
          },
          "metadata": {},
          "execution_count": 47
        }
      ]
    },
    {
      "cell_type": "code",
      "source": [
        "data.info()"
      ],
      "metadata": {
        "colab": {
          "base_uri": "https://localhost:8080/"
        },
        "id": "nksR64d8UEIY",
        "outputId": "d59d081a-9822-4e82-bd67-6c0a190b7234"
      },
      "execution_count": null,
      "outputs": [
        {
          "output_type": "stream",
          "name": "stdout",
          "text": [
            "<class 'pandas.core.frame.DataFrame'>\n",
            "RangeIndex: 1309 entries, 0 to 1308\n",
            "Data columns (total 28 columns):\n",
            " #   Column       Non-Null Count  Dtype  \n",
            "---  ------       --------------  -----  \n",
            " 0   Passengerid  1309 non-null   int64  \n",
            " 1   Age          1309 non-null   float64\n",
            " 2   Fare         1309 non-null   float64\n",
            " 3   Sex          1309 non-null   int64  \n",
            " 4   sibsp        1309 non-null   int64  \n",
            " 5   zero         1309 non-null   int64  \n",
            " 6   zero.1       1309 non-null   int64  \n",
            " 7   zero.2       1309 non-null   int64  \n",
            " 8   zero.3       1309 non-null   int64  \n",
            " 9   zero.4       1309 non-null   int64  \n",
            " 10  zero.5       1309 non-null   int64  \n",
            " 11  zero.6       1309 non-null   int64  \n",
            " 12  Parch        1309 non-null   int64  \n",
            " 13  zero.7       1309 non-null   int64  \n",
            " 14  zero.8       1309 non-null   int64  \n",
            " 15  zero.9       1309 non-null   int64  \n",
            " 16  zero.10      1309 non-null   int64  \n",
            " 17  zero.11      1309 non-null   int64  \n",
            " 18  zero.12      1309 non-null   int64  \n",
            " 19  zero.13      1309 non-null   int64  \n",
            " 20  zero.14      1309 non-null   int64  \n",
            " 21  Pclass       1309 non-null   int64  \n",
            " 22  zero.15      1309 non-null   int64  \n",
            " 23  zero.16      1309 non-null   int64  \n",
            " 24  Embarked     1307 non-null   float64\n",
            " 25  zero.17      1309 non-null   int64  \n",
            " 26  zero.18      1309 non-null   int64  \n",
            " 27  2urvived     1309 non-null   int64  \n",
            "dtypes: float64(3), int64(25)\n",
            "memory usage: 286.5 KB\n"
          ]
        }
      ]
    },
    {
      "cell_type": "code",
      "source": [
        "data.describe()"
      ],
      "metadata": {
        "colab": {
          "base_uri": "https://localhost:8080/",
          "height": 390
        },
        "id": "TpV3_qdxUORF",
        "outputId": "0fcd7571-8ef3-4586-eea2-77b179b23d3d"
      },
      "execution_count": null,
      "outputs": [
        {
          "output_type": "execute_result",
          "data": {
            "text/plain": [
              "       Passengerid          Age         Fare          Sex        sibsp  \\\n",
              "count  1309.000000  1309.000000  1309.000000  1309.000000  1309.000000   \n",
              "mean    655.000000    29.503186    33.281086     0.355997     0.498854   \n",
              "std     378.020061    12.905241    51.741500     0.478997     1.041658   \n",
              "min       1.000000     0.170000     0.000000     0.000000     0.000000   \n",
              "25%     328.000000    22.000000     7.895800     0.000000     0.000000   \n",
              "50%     655.000000    28.000000    14.454200     0.000000     0.000000   \n",
              "75%     982.000000    35.000000    31.275000     1.000000     1.000000   \n",
              "max    1309.000000    80.000000   512.329200     1.000000     8.000000   \n",
              "\n",
              "         zero  zero.1  zero.2  zero.3  zero.4  ...  zero.12  zero.13  zero.14  \\\n",
              "count  1309.0  1309.0  1309.0  1309.0  1309.0  ...   1309.0   1309.0   1309.0   \n",
              "mean      0.0     0.0     0.0     0.0     0.0  ...      0.0      0.0      0.0   \n",
              "std       0.0     0.0     0.0     0.0     0.0  ...      0.0      0.0      0.0   \n",
              "min       0.0     0.0     0.0     0.0     0.0  ...      0.0      0.0      0.0   \n",
              "25%       0.0     0.0     0.0     0.0     0.0  ...      0.0      0.0      0.0   \n",
              "50%       0.0     0.0     0.0     0.0     0.0  ...      0.0      0.0      0.0   \n",
              "75%       0.0     0.0     0.0     0.0     0.0  ...      0.0      0.0      0.0   \n",
              "max       0.0     0.0     0.0     0.0     0.0  ...      0.0      0.0      0.0   \n",
              "\n",
              "            Pclass  zero.15  zero.16     Embarked  zero.17  zero.18  \\\n",
              "count  1309.000000   1309.0   1309.0  1307.000000   1309.0   1309.0   \n",
              "mean      2.294882      0.0      0.0     1.492731      0.0      0.0   \n",
              "std       0.837836      0.0      0.0     0.814626      0.0      0.0   \n",
              "min       1.000000      0.0      0.0     0.000000      0.0      0.0   \n",
              "25%       2.000000      0.0      0.0     1.000000      0.0      0.0   \n",
              "50%       3.000000      0.0      0.0     2.000000      0.0      0.0   \n",
              "75%       3.000000      0.0      0.0     2.000000      0.0      0.0   \n",
              "max       3.000000      0.0      0.0     2.000000      0.0      0.0   \n",
              "\n",
              "          2urvived  \n",
              "count  1309.000000  \n",
              "mean      0.261268  \n",
              "std       0.439494  \n",
              "min       0.000000  \n",
              "25%       0.000000  \n",
              "50%       0.000000  \n",
              "75%       1.000000  \n",
              "max       1.000000  \n",
              "\n",
              "[8 rows x 28 columns]"
            ],
            "text/html": [
              "\n",
              "  <div id=\"df-8370cc7e-3d7a-41d0-8ecf-0aea780d49e1\">\n",
              "    <div class=\"colab-df-container\">\n",
              "      <div>\n",
              "<style scoped>\n",
              "    .dataframe tbody tr th:only-of-type {\n",
              "        vertical-align: middle;\n",
              "    }\n",
              "\n",
              "    .dataframe tbody tr th {\n",
              "        vertical-align: top;\n",
              "    }\n",
              "\n",
              "    .dataframe thead th {\n",
              "        text-align: right;\n",
              "    }\n",
              "</style>\n",
              "<table border=\"1\" class=\"dataframe\">\n",
              "  <thead>\n",
              "    <tr style=\"text-align: right;\">\n",
              "      <th></th>\n",
              "      <th>Passengerid</th>\n",
              "      <th>Age</th>\n",
              "      <th>Fare</th>\n",
              "      <th>Sex</th>\n",
              "      <th>sibsp</th>\n",
              "      <th>zero</th>\n",
              "      <th>zero.1</th>\n",
              "      <th>zero.2</th>\n",
              "      <th>zero.3</th>\n",
              "      <th>zero.4</th>\n",
              "      <th>...</th>\n",
              "      <th>zero.12</th>\n",
              "      <th>zero.13</th>\n",
              "      <th>zero.14</th>\n",
              "      <th>Pclass</th>\n",
              "      <th>zero.15</th>\n",
              "      <th>zero.16</th>\n",
              "      <th>Embarked</th>\n",
              "      <th>zero.17</th>\n",
              "      <th>zero.18</th>\n",
              "      <th>2urvived</th>\n",
              "    </tr>\n",
              "  </thead>\n",
              "  <tbody>\n",
              "    <tr>\n",
              "      <th>count</th>\n",
              "      <td>1309.000000</td>\n",
              "      <td>1309.000000</td>\n",
              "      <td>1309.000000</td>\n",
              "      <td>1309.000000</td>\n",
              "      <td>1309.000000</td>\n",
              "      <td>1309.0</td>\n",
              "      <td>1309.0</td>\n",
              "      <td>1309.0</td>\n",
              "      <td>1309.0</td>\n",
              "      <td>1309.0</td>\n",
              "      <td>...</td>\n",
              "      <td>1309.0</td>\n",
              "      <td>1309.0</td>\n",
              "      <td>1309.0</td>\n",
              "      <td>1309.000000</td>\n",
              "      <td>1309.0</td>\n",
              "      <td>1309.0</td>\n",
              "      <td>1307.000000</td>\n",
              "      <td>1309.0</td>\n",
              "      <td>1309.0</td>\n",
              "      <td>1309.000000</td>\n",
              "    </tr>\n",
              "    <tr>\n",
              "      <th>mean</th>\n",
              "      <td>655.000000</td>\n",
              "      <td>29.503186</td>\n",
              "      <td>33.281086</td>\n",
              "      <td>0.355997</td>\n",
              "      <td>0.498854</td>\n",
              "      <td>0.0</td>\n",
              "      <td>0.0</td>\n",
              "      <td>0.0</td>\n",
              "      <td>0.0</td>\n",
              "      <td>0.0</td>\n",
              "      <td>...</td>\n",
              "      <td>0.0</td>\n",
              "      <td>0.0</td>\n",
              "      <td>0.0</td>\n",
              "      <td>2.294882</td>\n",
              "      <td>0.0</td>\n",
              "      <td>0.0</td>\n",
              "      <td>1.492731</td>\n",
              "      <td>0.0</td>\n",
              "      <td>0.0</td>\n",
              "      <td>0.261268</td>\n",
              "    </tr>\n",
              "    <tr>\n",
              "      <th>std</th>\n",
              "      <td>378.020061</td>\n",
              "      <td>12.905241</td>\n",
              "      <td>51.741500</td>\n",
              "      <td>0.478997</td>\n",
              "      <td>1.041658</td>\n",
              "      <td>0.0</td>\n",
              "      <td>0.0</td>\n",
              "      <td>0.0</td>\n",
              "      <td>0.0</td>\n",
              "      <td>0.0</td>\n",
              "      <td>...</td>\n",
              "      <td>0.0</td>\n",
              "      <td>0.0</td>\n",
              "      <td>0.0</td>\n",
              "      <td>0.837836</td>\n",
              "      <td>0.0</td>\n",
              "      <td>0.0</td>\n",
              "      <td>0.814626</td>\n",
              "      <td>0.0</td>\n",
              "      <td>0.0</td>\n",
              "      <td>0.439494</td>\n",
              "    </tr>\n",
              "    <tr>\n",
              "      <th>min</th>\n",
              "      <td>1.000000</td>\n",
              "      <td>0.170000</td>\n",
              "      <td>0.000000</td>\n",
              "      <td>0.000000</td>\n",
              "      <td>0.000000</td>\n",
              "      <td>0.0</td>\n",
              "      <td>0.0</td>\n",
              "      <td>0.0</td>\n",
              "      <td>0.0</td>\n",
              "      <td>0.0</td>\n",
              "      <td>...</td>\n",
              "      <td>0.0</td>\n",
              "      <td>0.0</td>\n",
              "      <td>0.0</td>\n",
              "      <td>1.000000</td>\n",
              "      <td>0.0</td>\n",
              "      <td>0.0</td>\n",
              "      <td>0.000000</td>\n",
              "      <td>0.0</td>\n",
              "      <td>0.0</td>\n",
              "      <td>0.000000</td>\n",
              "    </tr>\n",
              "    <tr>\n",
              "      <th>25%</th>\n",
              "      <td>328.000000</td>\n",
              "      <td>22.000000</td>\n",
              "      <td>7.895800</td>\n",
              "      <td>0.000000</td>\n",
              "      <td>0.000000</td>\n",
              "      <td>0.0</td>\n",
              "      <td>0.0</td>\n",
              "      <td>0.0</td>\n",
              "      <td>0.0</td>\n",
              "      <td>0.0</td>\n",
              "      <td>...</td>\n",
              "      <td>0.0</td>\n",
              "      <td>0.0</td>\n",
              "      <td>0.0</td>\n",
              "      <td>2.000000</td>\n",
              "      <td>0.0</td>\n",
              "      <td>0.0</td>\n",
              "      <td>1.000000</td>\n",
              "      <td>0.0</td>\n",
              "      <td>0.0</td>\n",
              "      <td>0.000000</td>\n",
              "    </tr>\n",
              "    <tr>\n",
              "      <th>50%</th>\n",
              "      <td>655.000000</td>\n",
              "      <td>28.000000</td>\n",
              "      <td>14.454200</td>\n",
              "      <td>0.000000</td>\n",
              "      <td>0.000000</td>\n",
              "      <td>0.0</td>\n",
              "      <td>0.0</td>\n",
              "      <td>0.0</td>\n",
              "      <td>0.0</td>\n",
              "      <td>0.0</td>\n",
              "      <td>...</td>\n",
              "      <td>0.0</td>\n",
              "      <td>0.0</td>\n",
              "      <td>0.0</td>\n",
              "      <td>3.000000</td>\n",
              "      <td>0.0</td>\n",
              "      <td>0.0</td>\n",
              "      <td>2.000000</td>\n",
              "      <td>0.0</td>\n",
              "      <td>0.0</td>\n",
              "      <td>0.000000</td>\n",
              "    </tr>\n",
              "    <tr>\n",
              "      <th>75%</th>\n",
              "      <td>982.000000</td>\n",
              "      <td>35.000000</td>\n",
              "      <td>31.275000</td>\n",
              "      <td>1.000000</td>\n",
              "      <td>1.000000</td>\n",
              "      <td>0.0</td>\n",
              "      <td>0.0</td>\n",
              "      <td>0.0</td>\n",
              "      <td>0.0</td>\n",
              "      <td>0.0</td>\n",
              "      <td>...</td>\n",
              "      <td>0.0</td>\n",
              "      <td>0.0</td>\n",
              "      <td>0.0</td>\n",
              "      <td>3.000000</td>\n",
              "      <td>0.0</td>\n",
              "      <td>0.0</td>\n",
              "      <td>2.000000</td>\n",
              "      <td>0.0</td>\n",
              "      <td>0.0</td>\n",
              "      <td>1.000000</td>\n",
              "    </tr>\n",
              "    <tr>\n",
              "      <th>max</th>\n",
              "      <td>1309.000000</td>\n",
              "      <td>80.000000</td>\n",
              "      <td>512.329200</td>\n",
              "      <td>1.000000</td>\n",
              "      <td>8.000000</td>\n",
              "      <td>0.0</td>\n",
              "      <td>0.0</td>\n",
              "      <td>0.0</td>\n",
              "      <td>0.0</td>\n",
              "      <td>0.0</td>\n",
              "      <td>...</td>\n",
              "      <td>0.0</td>\n",
              "      <td>0.0</td>\n",
              "      <td>0.0</td>\n",
              "      <td>3.000000</td>\n",
              "      <td>0.0</td>\n",
              "      <td>0.0</td>\n",
              "      <td>2.000000</td>\n",
              "      <td>0.0</td>\n",
              "      <td>0.0</td>\n",
              "      <td>1.000000</td>\n",
              "    </tr>\n",
              "  </tbody>\n",
              "</table>\n",
              "<p>8 rows × 28 columns</p>\n",
              "</div>\n",
              "      <button class=\"colab-df-convert\" onclick=\"convertToInteractive('df-8370cc7e-3d7a-41d0-8ecf-0aea780d49e1')\"\n",
              "              title=\"Convert this dataframe to an interactive table.\"\n",
              "              style=\"display:none;\">\n",
              "        \n",
              "  <svg xmlns=\"http://www.w3.org/2000/svg\" height=\"24px\"viewBox=\"0 0 24 24\"\n",
              "       width=\"24px\">\n",
              "    <path d=\"M0 0h24v24H0V0z\" fill=\"none\"/>\n",
              "    <path d=\"M18.56 5.44l.94 2.06.94-2.06 2.06-.94-2.06-.94-.94-2.06-.94 2.06-2.06.94zm-11 1L8.5 8.5l.94-2.06 2.06-.94-2.06-.94L8.5 2.5l-.94 2.06-2.06.94zm10 10l.94 2.06.94-2.06 2.06-.94-2.06-.94-.94-2.06-.94 2.06-2.06.94z\"/><path d=\"M17.41 7.96l-1.37-1.37c-.4-.4-.92-.59-1.43-.59-.52 0-1.04.2-1.43.59L10.3 9.45l-7.72 7.72c-.78.78-.78 2.05 0 2.83L4 21.41c.39.39.9.59 1.41.59.51 0 1.02-.2 1.41-.59l7.78-7.78 2.81-2.81c.8-.78.8-2.07 0-2.86zM5.41 20L4 18.59l7.72-7.72 1.47 1.35L5.41 20z\"/>\n",
              "  </svg>\n",
              "      </button>\n",
              "      \n",
              "  <style>\n",
              "    .colab-df-container {\n",
              "      display:flex;\n",
              "      flex-wrap:wrap;\n",
              "      gap: 12px;\n",
              "    }\n",
              "\n",
              "    .colab-df-convert {\n",
              "      background-color: #E8F0FE;\n",
              "      border: none;\n",
              "      border-radius: 50%;\n",
              "      cursor: pointer;\n",
              "      display: none;\n",
              "      fill: #1967D2;\n",
              "      height: 32px;\n",
              "      padding: 0 0 0 0;\n",
              "      width: 32px;\n",
              "    }\n",
              "\n",
              "    .colab-df-convert:hover {\n",
              "      background-color: #E2EBFA;\n",
              "      box-shadow: 0px 1px 2px rgba(60, 64, 67, 0.3), 0px 1px 3px 1px rgba(60, 64, 67, 0.15);\n",
              "      fill: #174EA6;\n",
              "    }\n",
              "\n",
              "    [theme=dark] .colab-df-convert {\n",
              "      background-color: #3B4455;\n",
              "      fill: #D2E3FC;\n",
              "    }\n",
              "\n",
              "    [theme=dark] .colab-df-convert:hover {\n",
              "      background-color: #434B5C;\n",
              "      box-shadow: 0px 1px 3px 1px rgba(0, 0, 0, 0.15);\n",
              "      filter: drop-shadow(0px 1px 2px rgba(0, 0, 0, 0.3));\n",
              "      fill: #FFFFFF;\n",
              "    }\n",
              "  </style>\n",
              "\n",
              "      <script>\n",
              "        const buttonEl =\n",
              "          document.querySelector('#df-8370cc7e-3d7a-41d0-8ecf-0aea780d49e1 button.colab-df-convert');\n",
              "        buttonEl.style.display =\n",
              "          google.colab.kernel.accessAllowed ? 'block' : 'none';\n",
              "\n",
              "        async function convertToInteractive(key) {\n",
              "          const element = document.querySelector('#df-8370cc7e-3d7a-41d0-8ecf-0aea780d49e1');\n",
              "          const dataTable =\n",
              "            await google.colab.kernel.invokeFunction('convertToInteractive',\n",
              "                                                     [key], {});\n",
              "          if (!dataTable) return;\n",
              "\n",
              "          const docLinkHtml = 'Like what you see? Visit the ' +\n",
              "            '<a target=\"_blank\" href=https://colab.research.google.com/notebooks/data_table.ipynb>data table notebook</a>'\n",
              "            + ' to learn more about interactive tables.';\n",
              "          element.innerHTML = '';\n",
              "          dataTable['output_type'] = 'display_data';\n",
              "          await google.colab.output.renderOutput(dataTable, element);\n",
              "          const docLink = document.createElement('div');\n",
              "          docLink.innerHTML = docLinkHtml;\n",
              "          element.appendChild(docLink);\n",
              "        }\n",
              "      </script>\n",
              "    </div>\n",
              "  </div>\n",
              "  "
            ]
          },
          "metadata": {},
          "execution_count": 49
        }
      ]
    },
    {
      "cell_type": "code",
      "source": [],
      "metadata": {
        "id": "_nQTRIjtd8lc"
      },
      "execution_count": null,
      "outputs": []
    },
    {
      "cell_type": "code",
      "source": [
        "data['Embarked'].mean(),data['Embarked'].std,data['Embarked'].max(),data['Embarked'].min(),data['Embarked'].var()"
      ],
      "metadata": {
        "colab": {
          "base_uri": "https://localhost:8080/"
        },
        "id": "JuSVu_usUUgW",
        "outputId": "28eb89b0-5d6e-46e7-9158-53bc623aa946"
      },
      "execution_count": null,
      "outputs": [
        {
          "output_type": "execute_result",
          "data": {
            "text/plain": [
              "(1.4927314460596786,\n",
              " <bound method NDFrame._add_numeric_operations.<locals>.std of 0       2.0\n",
              " 1       0.0\n",
              " 2       2.0\n",
              " 3       2.0\n",
              " 4       2.0\n",
              "        ... \n",
              " 1304    2.0\n",
              " 1305    0.0\n",
              " 1306    2.0\n",
              " 1307    2.0\n",
              " 1308    0.0\n",
              " Name: Embarked, Length: 1307, dtype: float64>,\n",
              " 2.0,\n",
              " 0.0,\n",
              " 0.663614815266131)"
            ]
          },
          "metadata": {},
          "execution_count": 65
        }
      ]
    },
    {
      "cell_type": "code",
      "source": [
        "from sklearn.preprocessing import StandardScaler"
      ],
      "metadata": {
        "id": "mv6s6iQXYUDl"
      },
      "execution_count": null,
      "outputs": []
    },
    {
      "cell_type": "code",
      "source": [
        "s=StandardScaler()"
      ],
      "metadata": {
        "id": "-0pa2DBlZQ1L"
      },
      "execution_count": null,
      "outputs": []
    },
    {
      "cell_type": "code",
      "source": [
        "data['Embarked'].isnull().sum()"
      ],
      "metadata": {
        "colab": {
          "base_uri": "https://localhost:8080/"
        },
        "id": "3j4MbkXOZZti",
        "outputId": "082b8b97-92e1-4afd-c91e-5fdbbc9dcf4d"
      },
      "execution_count": null,
      "outputs": [
        {
          "output_type": "execute_result",
          "data": {
            "text/plain": [
              "0"
            ]
          },
          "metadata": {},
          "execution_count": 67
        }
      ]
    },
    {
      "cell_type": "code",
      "source": [
        "data.dropna(inplace=True)"
      ],
      "metadata": {
        "id": "pGQu2pdhZ_4z"
      },
      "execution_count": null,
      "outputs": []
    },
    {
      "cell_type": "code",
      "source": [
        "np.array(data['Embarked']).shape"
      ],
      "metadata": {
        "colab": {
          "base_uri": "https://localhost:8080/"
        },
        "id": "f1tYCcnLblyA",
        "outputId": "ba49013f-48fb-4ff7-bb2b-6294e491728c"
      },
      "execution_count": null,
      "outputs": [
        {
          "output_type": "execute_result",
          "data": {
            "text/plain": [
              "(1307,)"
            ]
          },
          "metadata": {},
          "execution_count": 61
        }
      ]
    },
    {
      "cell_type": "code",
      "source": [
        "X=np.array(data['Embarked']).reshape(-1,1)"
      ],
      "metadata": {
        "id": "242GXiXKb21X"
      },
      "execution_count": null,
      "outputs": []
    },
    {
      "cell_type": "code",
      "source": [
        "X.shape"
      ],
      "metadata": {
        "colab": {
          "base_uri": "https://localhost:8080/"
        },
        "id": "xBUxMgl8cSjn",
        "outputId": "e44705ef-fee1-4f55-cd16-bf3da1516bbb"
      },
      "execution_count": null,
      "outputs": [
        {
          "output_type": "execute_result",
          "data": {
            "text/plain": [
              "(1307, 1)"
            ]
          },
          "metadata": {},
          "execution_count": 69
        }
      ]
    },
    {
      "cell_type": "code",
      "source": [
        "Y=s.fit_transform(X)\n",
        "print(Y)"
      ],
      "metadata": {
        "colab": {
          "base_uri": "https://localhost:8080/"
        },
        "id": "jl4XUl1bcjNL",
        "outputId": "bc98bb94-0632-44dd-dab7-13a56a926f57"
      },
      "execution_count": null,
      "outputs": [
        {
          "output_type": "stream",
          "name": "stdout",
          "text": [
            "[[ 0.62293984]\n",
            " [-1.83311559]\n",
            " [ 0.62293984]\n",
            " ...\n",
            " [ 0.62293984]\n",
            " [ 0.62293984]\n",
            " [-1.83311559]]\n"
          ]
        }
      ]
    },
    {
      "cell_type": "code",
      "source": [
        "Y.dtype"
      ],
      "metadata": {
        "colab": {
          "base_uri": "https://localhost:8080/"
        },
        "id": "Aa-p3t6IczXa",
        "outputId": "b82947b3-1828-42ef-bbae-60a43a41e189"
      },
      "execution_count": null,
      "outputs": [
        {
          "output_type": "execute_result",
          "data": {
            "text/plain": [
              "dtype('float64')"
            ]
          },
          "metadata": {},
          "execution_count": 74
        }
      ]
    },
    {
      "cell_type": "code",
      "source": [
        "Y.mean()"
      ],
      "metadata": {
        "colab": {
          "base_uri": "https://localhost:8080/"
        },
        "id": "wwKZexo2dOIG",
        "outputId": "7b065d56-a740-4dc0-fccd-27275ea196ac"
      },
      "execution_count": null,
      "outputs": [
        {
          "output_type": "execute_result",
          "data": {
            "text/plain": [
              "1.3591100530988908e-16"
            ]
          },
          "metadata": {},
          "execution_count": 77
        }
      ]
    },
    {
      "cell_type": "code",
      "source": [
        "Y.std()"
      ],
      "metadata": {
        "colab": {
          "base_uri": "https://localhost:8080/"
        },
        "id": "NkSk8-cjdVt0",
        "outputId": "e0bcd0f5-2e6b-400b-dcce-b9d79823268b"
      },
      "execution_count": null,
      "outputs": [
        {
          "output_type": "execute_result",
          "data": {
            "text/plain": [
              "1.0"
            ]
          },
          "metadata": {},
          "execution_count": 76
        }
      ]
    },
    {
      "cell_type": "code",
      "source": [
        "data['Embarked']=pd.Series(Y.reshape(-1))"
      ],
      "metadata": {
        "id": "UoW-PF1-drYF"
      },
      "execution_count": null,
      "outputs": []
    },
    {
      "cell_type": "code",
      "source": [
        "data['Embarked'].mean(),data['Embarked'].std,data['Embarked'].max(),data['Embarked'].min(),data['Embarked'].var()"
      ],
      "metadata": {
        "colab": {
          "base_uri": "https://localhost:8080/"
        },
        "id": "w9nt2K3OeBGy",
        "outputId": "fce422eb-6d4f-4765-b7f7-69ad8ba5bacc"
      },
      "execution_count": null,
      "outputs": [
        {
          "output_type": "execute_result",
          "data": {
            "text/plain": [
              "(-0.0009546970785059238,\n",
              " <bound method NDFrame._add_numeric_operations.<locals>.std of 0       0.622940\n",
              " 1      -1.833116\n",
              " 2       0.622940\n",
              " 3       0.622940\n",
              " 4       0.622940\n",
              "           ...   \n",
              " 1304    0.622940\n",
              " 1305    0.622940\n",
              " 1306   -1.833116\n",
              " 1307         NaN\n",
              " 1308         NaN\n",
              " Name: Embarked, Length: 1307, dtype: float64>,\n",
              " 0.6229398437252005,\n",
              " -1.8331155883979877,\n",
              " 1.0017045264298323)"
            ]
          },
          "metadata": {},
          "execution_count": 80
        }
      ]
    },
    {
      "cell_type": "code",
      "source": [
        "import seaborn as sns\n",
        "sns.boxplot(data['Embarked'])"
      ],
      "metadata": {
        "colab": {
          "base_uri": "https://localhost:8080/",
          "height": 447
        },
        "id": "2063XyW8eI6O",
        "outputId": "beb735ef-e776-45f2-a38a-c6fccbe0d894"
      },
      "execution_count": null,
      "outputs": [
        {
          "output_type": "execute_result",
          "data": {
            "text/plain": [
              "<Axes: >"
            ]
          },
          "metadata": {},
          "execution_count": 81
        },
        {
          "output_type": "display_data",
          "data": {
            "text/plain": [
              "<Figure size 640x480 with 1 Axes>"
            ],
            "image/png": "[encoded data removed]"
          },
          "metadata": {}
        }
      ]
    },
    {
      "cell_type": "code",
      "source": [
        "print(data['Embarked'].mean())"
      ],
      "metadata": {
        "colab": {
          "base_uri": "https://localhost:8080/"
        },
        "id": "t3j26eUHemx4",
        "outputId": "1871c90d-40f9-4cf7-cab5-7f1cbf860f5b"
      },
      "execution_count": null,
      "outputs": [
        {
          "output_type": "stream",
          "name": "stdout",
          "text": [
            "-0.0009546970785059238\n"
          ]
        }
      ]
    }
  ]
}