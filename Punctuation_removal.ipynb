{
  "nbformat": 4,
  "nbformat_minor": 0,
  "metadata": {
    "colab": {
      "provenance": [],
      "authorship_tag": "ABX9TyPO2unuWEmcsuweMAUpTM3+",
      "include_colab_link": true
    },
    "kernelspec": {
      "name": "python3",
      "display_name": "Python 3"
    },
    "language_info": {
      "name": "python"
    }
  },
  "cells": [
    {
      "cell_type": "markdown",
      "metadata": {
        "id": "view-in-github",
        "colab_type": "text"
      },
      "source": [
        "<a href=\"https://colab.research.google.com/github/Aasha03/fmllab/blob/main/Punctuation_removal.ipynb\" target=\"_parent\"><img src=\"https://colab.research.google.com/assets/colab-badge.svg\" alt=\"Open In Colab\"/></a>"
      ]
    },
    {
      "cell_type": "code",
      "execution_count": null,
      "metadata": {
        "colab": {
          "base_uri": "https://localhost:8080/"
        },
        "id": "ZIFwlwEzwGaV",
        "outputId": "b5d97fd7-d7ea-490c-ea22-becd8a540bef"
      },
      "outputs": [
        {
          "output_type": "stream",
          "name": "stdout",
          "text": [
            " When I first met her she was very quiet She remained quiet during the entire two hour long journey from Stony Brook to New York\n"
          ]
        }
      ],
      "source": [
        "import string\n",
        "punctuation= '''!()-[]{};:'\"\\,<>./?@#$%^&*_~'''\n",
        "new_text=\" \"\n",
        "text=\"When I first met her she was very quiet. She remained 'quiet' during the entire 'two' hour long journey from Stony Brook to New York.\"\n",
        "\n",
        "for i in text:\n",
        " if i not in punctuation:\n",
        "  new_text+=i\n",
        "print(new_text)\n",
        "  "
      ]
    }
  ]
}