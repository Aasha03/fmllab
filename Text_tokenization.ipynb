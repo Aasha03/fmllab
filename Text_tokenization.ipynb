{
  "nbformat": 4,
  "nbformat_minor": 0,
  "metadata": {
    "colab": {
      "provenance": [],
      "authorship_tag": "ABX9TyPD3wFQhwJhQHiPdwsNtwhA",
      "include_colab_link": true
    },
    "kernelspec": {
      "name": "python3",
      "display_name": "Python 3"
    },
    "language_info": {
      "name": "python"
    }
  },
  "cells": [
    {
      "cell_type": "markdown",
      "metadata": {
        "id": "view-in-github",
        "colab_type": "text"
      },
      "source": [
        "<a href=\"https://colab.research.google.com/github/Aasha03/fmllab/blob/main/Text_tokenization.ipynb\" target=\"_parent\"><img src=\"https://colab.research.google.com/assets/colab-badge.svg\" alt=\"Open In Colab\"/></a>"
      ]
    },
    {
      "cell_type": "code",
      "execution_count": null,
      "metadata": {
        "colab": {
          "base_uri": "https://localhost:8080/"
        },
        "id": "_o3q-UOPRgo7",
        "outputId": "ab621eef-b572-48ff-a35b-949de4ca9804"
      },
      "outputs": [
        {
          "output_type": "stream",
          "name": "stdout",
          "text": [
            "['Hi,', 'this', 'is', 'Aasha', 'from', '2nd', 'year', 'btech.I', 'came', 'from', 'the', 'city', 'Eluru.', \"I'm\", 'so', 'interested', 'to', 'do', 'the', 'Fml']\n",
            "No of tokens : 20\n"
          ]
        }
      ],
      "source": [
        "#text tokenization\n",
        "text='''Hi, this is Aasha from 2nd year btech.I came from the city Eluru. I'm so interested to do the  Fml'''\n",
        "tokens= text.split()\n",
        "print(tokens)\n",
        "print(\"No of tokens :\",len(tokens))"
      ]
    },
    {
      "cell_type": "code",
      "source": [
        "#Sentence tokenization\n",
        "sentence=text.split('.')\n",
        "print(sentence)\n",
        "print(\"no of sentences:\",len(sentence))"
      ],
      "metadata": {
        "colab": {
          "base_uri": "https://localhost:8080/"
        },
        "id": "tO79HHlPVtQI",
        "outputId": "87734029-e64b-45be-94fd-158e77b34260"
      },
      "execution_count": null,
      "outputs": [
        {
          "output_type": "stream",
          "name": "stdout",
          "text": [
            "['Hi, this is Aasha from 2nd year btech', 'I came from the city Eluru', \" I'm so interested to do the  Fml\"]\n",
            "no of sentences: 3\n"
          ]
        }
      ]
    },
    {
      "cell_type": "code",
      "source": [
        "import re\n"
      ],
      "metadata": {
        "id": "-UfGMYUhWN_o"
      },
      "execution_count": null,
      "outputs": []
    },
    {
      "cell_type": "code",
      "source": [
        "#word tokenization\n",
        "text='''Hi, this is Aasha from 2nd year btech.I came from the city Eluru. I'm so interested to do the  Fml'''\n",
        "word=re.findall(\"[\\w']+\",text)\n",
        "print(len(word))"
      ],
      "metadata": {
        "colab": {
          "base_uri": "https://localhost:8080/"
        },
        "id": "ZuonMS8jgkgX",
        "outputId": "a11f15dc-55c3-4fb0-9bfb-e3e4e518e589"
      },
      "execution_count": null,
      "outputs": [
        {
          "output_type": "stream",
          "name": "stdout",
          "text": [
            "21\n"
          ]
        }
      ]
    },
    {
      "cell_type": "code",
      "source": [
        "#sentence tokenization \n",
        "sentence=re.compile('[.?]').split(text)\n",
        "print(sentence)\n",
        "print(\"no of sentences:\",len(sentence))"
      ],
      "metadata": {
        "colab": {
          "base_uri": "https://localhost:8080/"
        },
        "id": "5pbGuhw8kCkz",
        "outputId": "77a22460-90d5-4d59-81a7-dce63c6e8521"
      },
      "execution_count": null,
      "outputs": [
        {
          "output_type": "stream",
          "name": "stdout",
          "text": [
            "['Hi, this is Aasha from 2nd year btech', 'I came from the city Eluru', \" I'm so interested to do the  Fml\"]\n",
            "no of sentences: 3\n"
          ]
        }
      ]
    }
  ]
}